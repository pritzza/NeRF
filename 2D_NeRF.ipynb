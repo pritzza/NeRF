{
  "nbformat": 4,
  "nbformat_minor": 0,
  "metadata": {
    "colab": {
      "provenance": [],
      "gpuType": "T4"
    },
    "kernelspec": {
      "name": "python3",
      "display_name": "Python 3"
    },
    "language_info": {
      "name": "python"
    },
    "accelerator": "GPU"
  },
  "cells": [
    {
      "cell_type": "code",
      "source": [
        "import os\n",
        "import math\n",
        "import imageio\n",
        "\n",
        "import numpy as np\n",
        "import torch\n",
        "import torch.nn as nn\n",
        "import torch.optim as optim\n",
        "from torchvision import io\n",
        "from matplotlib import pyplot as plt"
      ],
      "metadata": {
        "id": "8Km1bUOd3un9"
      },
      "execution_count": 13,
      "outputs": []
    },
    {
      "cell_type": "code",
      "source": [
        "OUTPUT_DIR = 'out/'\n",
        "IMAGE_PATH = \"fossil_hill_trail25.jpg\"\n",
        "\n",
        "os.makedirs(OUTPUT_DIR, exist_ok=True)\n",
        "\n",
        "def load_image(image_path, device):\n",
        "    image = io.read_image(image_path).float() / 255.0  # Normalize to [0, 1]\n",
        "    image = image.permute(1, 2, 0)  # Rearrange dimensions to (H, W, C)\n",
        "    return image.to(device)"
      ],
      "metadata": {
        "id": "6u9bPWTE4pUJ"
      },
      "execution_count": 14,
      "outputs": []
    },
    {
      "cell_type": "code",
      "execution_count": 15,
      "metadata": {
        "id": "ZUbat7rBMiAC"
      },
      "outputs": [],
      "source": [
        "def positional_encoding(x, L):\n",
        "\n",
        "    frequencies = 2.0 ** torch.arange(L).float().to(x.device)\n",
        "    x_in = x.unsqueeze(-1) * frequencies * 2 * torch.pi\n",
        "\n",
        "    encoding = torch.cat([torch.sin(x_in), torch.cos(x_in)], dim=-1)\n",
        "    encoding = torch.cat([x, encoding.reshape(*x.shape[:-1], -1)], dim=-1)\n",
        "\n",
        "    return encoding\n",
        "\n",
        "def psnr(image1, image2):\n",
        "\n",
        "    mse = np.mean((image1 - image2) ** 2)\n",
        "\n",
        "    if mse == 0:\n",
        "        return 100\n",
        "\n",
        "    return 20 * math.log10(1.0 / math.sqrt(mse))\n"
      ]
    },
    {
      "cell_type": "code",
      "source": [
        "def predict_image(model, image_shape, device):\n",
        "    h, w = image_shape\n",
        "    # Normalize coordinates\n",
        "    x = torch.linspace(0, w - 1, w).repeat(h, 1).to(device) / w\n",
        "    y = torch.linspace(0, h - 1, h).repeat(w, 1).transpose(0, 1).to(device) / h\n",
        "    all_coords = torch.stack([x, y], dim=-1).view(-1, 2)\n",
        "\n",
        "    with torch.no_grad():\n",
        "        predicted_pixels = model(all_coords)\n",
        "\n",
        "    return predicted_pixels.reshape(h, w, 3).cpu().numpy()\n",
        "\n",
        "\n",
        "class MLP(nn.Module):\n",
        "    def __init__(self, L=10):\n",
        "        super().__init__()\n",
        "        self.L = L\n",
        "        self.layers = nn.Sequential(\n",
        "            nn.Linear(2 * 2 * L + 2, 256),\n",
        "            nn.ReLU(),\n",
        "            nn.Linear(256, 256),\n",
        "            nn.ReLU(),\n",
        "            nn.Linear(256, 256),\n",
        "            nn.ReLU(),\n",
        "            nn.Linear(256, 3),\n",
        "            nn.Sigmoid()\n",
        "        )\n",
        "\n",
        "    def forward(self, x):\n",
        "        x = positional_encoding(x, L=self.L)\n",
        "        return self.layers(x)\n",
        "\n",
        "\n",
        "def train_model(model, image, optimizer, criterion, iters=3200, batch_size=10000, device='cuda'):\n",
        "    psnr_scores = []\n",
        "    loss_values = []\n",
        "\n",
        "    model.train()\n",
        "    h, w = image.shape[:2]\n",
        "\n",
        "    # Normalize coordinates\n",
        "    x = torch.linspace(0, w - 1, w).repeat(h, 1).to(device) / w\n",
        "    y = torch.linspace(0, h - 1, h).repeat(w, 1).transpose(0, 1).to(device) / h\n",
        "    all_coords = torch.stack([x, y], dim=-1).view(-1, 2)\n",
        "    all_pixels = image.view(-1, 3).to(device)\n",
        "\n",
        "    for iteration in range(iters):\n",
        "        # Sample random batch of pixels and their coordinates\n",
        "        idx = torch.randint(0, h * w, (batch_size,), device=device)\n",
        "        coords_batch = all_coords[idx]\n",
        "        pixel_batch = all_pixels[idx]\n",
        "\n",
        "        optimizer.zero_grad()\n",
        "        outputs = model(coords_batch)\n",
        "        loss = criterion(outputs, pixel_batch)\n",
        "        loss.backward()\n",
        "        optimizer.step()\n",
        "\n",
        "        loss_values.append(loss.item())\n",
        "\n",
        "        if (iteration + 1) % 100 == 0:\n",
        "            print(f\"Iteration {iteration + 1}/{iters}, Loss: {loss.item():.6f}\")\n",
        "            curr_psnr = psnr(image.cpu().numpy(), predict_image(model, (h, w), device))\n",
        "            print(f\"PSNR: {curr_psnr:.2f} dB\")\n",
        "            psnr_scores.append(curr_psnr)\n",
        "\n",
        "            # Save intermediate outputs\n",
        "            model.eval()\n",
        "            predicted_image = predict_image(model, (h, w), device)\n",
        "            plt.imsave(f\"{OUTPUT_DIR}iter{iteration + 1}.jpg\", predicted_image)\n",
        "            model.train()\n",
        "\n",
        "    plt.figure()\n",
        "    plt.plot(range(100, iters + 1, 100), psnr_scores)\n",
        "    plt.xlabel('Iteration')\n",
        "    plt.ylabel('PSNR (dB)')\n",
        "    plt.title('PSNR vs. Iteration')\n",
        "    plt.savefig('psnr.png')\n",
        "\n",
        "    plt.figure()\n",
        "    plt.plot(range(1, iters + 1), loss_values)\n",
        "    plt.xlabel('Iteration')\n",
        "    plt.ylabel('Loss')\n",
        "    plt.title('Loss vs. Iteration')\n",
        "    plt.savefig('loss.png')\n",
        "\n",
        "    final_image = predict_image(model, (h, w), device)\n",
        "    plt.imsave(f\"{OUTPUT_DIR}final.png\", final_image)\n",
        "\n",
        "    print(f\"Final PSNR: {psnr(image.cpu().numpy(), final_image):.2f} dB\")\n"
      ],
      "metadata": {
        "id": "k0YTikV53olq"
      },
      "execution_count": 16,
      "outputs": []
    },
    {
      "cell_type": "code",
      "source": [
        "BATCH_SIZE = 10000\n",
        "ITERS = 3200\n",
        "LEARNING_RATE = 1e-2\n",
        "\n",
        "device = torch.device('cuda' if torch.cuda.is_available() else 'cpu')\n",
        "\n",
        "image = load_image(IMAGE_PATH, device)\n",
        "\n",
        "model = MLP().to(device)\n",
        "criterion = nn.MSELoss()\n",
        "optimizer = optim.Adam(model.parameters(), lr=LEARNING_RATE)\n"
      ],
      "metadata": {
        "id": "JVN-D2hNNN4w"
      },
      "execution_count": 17,
      "outputs": []
    },
    {
      "cell_type": "code",
      "source": [
        "train_model(model, image, optimizer, criterion, iters=ITERS, batch_size=BATCH_SIZE, device=device)"
      ],
      "metadata": {
        "colab": {
          "base_uri": "https://localhost:8080/",
          "height": 564
        },
        "id": "0Um0DHZj4DFA",
        "outputId": "724c5d76-a363-4e29-9f77-931838d1d905"
      },
      "execution_count": 18,
      "outputs": [
        {
          "output_type": "stream",
          "name": "stdout",
          "text": [
            "Iteration 100/3200, Loss: 0.019793\n",
            "PSNR: 16.92 dB\n",
            "Iteration 200/3200, Loss: 0.019948\n",
            "PSNR: 17.17 dB\n",
            "Iteration 300/3200, Loss: 0.018185\n",
            "PSNR: 17.31 dB\n",
            "Iteration 400/3200, Loss: 0.017625\n",
            "PSNR: 17.41 dB\n",
            "Iteration 500/3200, Loss: 0.017541\n",
            "PSNR: 17.52 dB\n",
            "Iteration 600/3200, Loss: 0.018477\n",
            "PSNR: 17.60 dB\n",
            "Iteration 700/3200, Loss: 0.017526\n",
            "PSNR: 17.61 dB\n",
            "Iteration 800/3200, Loss: 0.018052\n",
            "PSNR: 17.68 dB\n"
          ]
        },
        {
          "output_type": "error",
          "ename": "KeyboardInterrupt",
          "evalue": "",
          "traceback": [
            "\u001b[0;31m---------------------------------------------------------------------------\u001b[0m",
            "\u001b[0;31mKeyboardInterrupt\u001b[0m                         Traceback (most recent call last)",
            "\u001b[0;32m<ipython-input-18-2061911d1dbd>\u001b[0m in \u001b[0;36m<cell line: 1>\u001b[0;34m()\u001b[0m\n\u001b[0;32m----> 1\u001b[0;31m \u001b[0mtrain_model\u001b[0m\u001b[0;34m(\u001b[0m\u001b[0mmodel\u001b[0m\u001b[0;34m,\u001b[0m \u001b[0mimage\u001b[0m\u001b[0;34m,\u001b[0m \u001b[0moptimizer\u001b[0m\u001b[0;34m,\u001b[0m \u001b[0mcriterion\u001b[0m\u001b[0;34m,\u001b[0m \u001b[0miters\u001b[0m\u001b[0;34m=\u001b[0m\u001b[0mITERS\u001b[0m\u001b[0;34m,\u001b[0m \u001b[0mbatch_size\u001b[0m\u001b[0;34m=\u001b[0m\u001b[0mBATCH_SIZE\u001b[0m\u001b[0;34m,\u001b[0m \u001b[0mdevice\u001b[0m\u001b[0;34m=\u001b[0m\u001b[0mdevice\u001b[0m\u001b[0;34m)\u001b[0m\u001b[0;34m\u001b[0m\u001b[0;34m\u001b[0m\u001b[0m\n\u001b[0m",
            "\u001b[0;32m<ipython-input-16-94c032faf971>\u001b[0m in \u001b[0;36mtrain_model\u001b[0;34m(model, image, optimizer, criterion, iters, batch_size, device)\u001b[0m\n\u001b[1;32m     54\u001b[0m         \u001b[0moutputs\u001b[0m \u001b[0;34m=\u001b[0m \u001b[0mmodel\u001b[0m\u001b[0;34m(\u001b[0m\u001b[0mcoords_batch\u001b[0m\u001b[0;34m)\u001b[0m\u001b[0;34m\u001b[0m\u001b[0;34m\u001b[0m\u001b[0m\n\u001b[1;32m     55\u001b[0m         \u001b[0mloss\u001b[0m \u001b[0;34m=\u001b[0m \u001b[0mcriterion\u001b[0m\u001b[0;34m(\u001b[0m\u001b[0moutputs\u001b[0m\u001b[0;34m,\u001b[0m \u001b[0mpixel_batch\u001b[0m\u001b[0;34m)\u001b[0m\u001b[0;34m\u001b[0m\u001b[0;34m\u001b[0m\u001b[0m\n\u001b[0;32m---> 56\u001b[0;31m         \u001b[0mloss\u001b[0m\u001b[0;34m.\u001b[0m\u001b[0mbackward\u001b[0m\u001b[0;34m(\u001b[0m\u001b[0;34m)\u001b[0m\u001b[0;34m\u001b[0m\u001b[0;34m\u001b[0m\u001b[0m\n\u001b[0m\u001b[1;32m     57\u001b[0m         \u001b[0moptimizer\u001b[0m\u001b[0;34m.\u001b[0m\u001b[0mstep\u001b[0m\u001b[0;34m(\u001b[0m\u001b[0;34m)\u001b[0m\u001b[0;34m\u001b[0m\u001b[0;34m\u001b[0m\u001b[0m\n\u001b[1;32m     58\u001b[0m \u001b[0;34m\u001b[0m\u001b[0m\n",
            "\u001b[0;32m/usr/local/lib/python3.10/dist-packages/torch/_tensor.py\u001b[0m in \u001b[0;36mbackward\u001b[0;34m(self, gradient, retain_graph, create_graph, inputs)\u001b[0m\n\u001b[1;32m    579\u001b[0m                 \u001b[0minputs\u001b[0m\u001b[0;34m=\u001b[0m\u001b[0minputs\u001b[0m\u001b[0;34m,\u001b[0m\u001b[0;34m\u001b[0m\u001b[0;34m\u001b[0m\u001b[0m\n\u001b[1;32m    580\u001b[0m             )\n\u001b[0;32m--> 581\u001b[0;31m         torch.autograd.backward(\n\u001b[0m\u001b[1;32m    582\u001b[0m             \u001b[0mself\u001b[0m\u001b[0;34m,\u001b[0m \u001b[0mgradient\u001b[0m\u001b[0;34m,\u001b[0m \u001b[0mretain_graph\u001b[0m\u001b[0;34m,\u001b[0m \u001b[0mcreate_graph\u001b[0m\u001b[0;34m,\u001b[0m \u001b[0minputs\u001b[0m\u001b[0;34m=\u001b[0m\u001b[0minputs\u001b[0m\u001b[0;34m\u001b[0m\u001b[0;34m\u001b[0m\u001b[0m\n\u001b[1;32m    583\u001b[0m         )\n",
            "\u001b[0;32m/usr/local/lib/python3.10/dist-packages/torch/autograd/__init__.py\u001b[0m in \u001b[0;36mbackward\u001b[0;34m(tensors, grad_tensors, retain_graph, create_graph, grad_variables, inputs)\u001b[0m\n\u001b[1;32m    345\u001b[0m     \u001b[0;31m# some Python versions print out the first line of a multi-line function\u001b[0m\u001b[0;34m\u001b[0m\u001b[0;34m\u001b[0m\u001b[0m\n\u001b[1;32m    346\u001b[0m     \u001b[0;31m# calls in the traceback and some print out the last line\u001b[0m\u001b[0;34m\u001b[0m\u001b[0;34m\u001b[0m\u001b[0m\n\u001b[0;32m--> 347\u001b[0;31m     _engine_run_backward(\n\u001b[0m\u001b[1;32m    348\u001b[0m         \u001b[0mtensors\u001b[0m\u001b[0;34m,\u001b[0m\u001b[0;34m\u001b[0m\u001b[0;34m\u001b[0m\u001b[0m\n\u001b[1;32m    349\u001b[0m         \u001b[0mgrad_tensors_\u001b[0m\u001b[0;34m,\u001b[0m\u001b[0;34m\u001b[0m\u001b[0;34m\u001b[0m\u001b[0m\n",
            "\u001b[0;32m/usr/local/lib/python3.10/dist-packages/torch/autograd/graph.py\u001b[0m in \u001b[0;36m_engine_run_backward\u001b[0;34m(t_outputs, *args, **kwargs)\u001b[0m\n\u001b[1;32m    823\u001b[0m         \u001b[0munregister_hooks\u001b[0m \u001b[0;34m=\u001b[0m \u001b[0m_register_logging_hooks_on_whole_graph\u001b[0m\u001b[0;34m(\u001b[0m\u001b[0mt_outputs\u001b[0m\u001b[0;34m)\u001b[0m\u001b[0;34m\u001b[0m\u001b[0;34m\u001b[0m\u001b[0m\n\u001b[1;32m    824\u001b[0m     \u001b[0;32mtry\u001b[0m\u001b[0;34m:\u001b[0m\u001b[0;34m\u001b[0m\u001b[0;34m\u001b[0m\u001b[0m\n\u001b[0;32m--> 825\u001b[0;31m         return Variable._execution_engine.run_backward(  # Calls into the C++ engine to run the backward pass\n\u001b[0m\u001b[1;32m    826\u001b[0m             \u001b[0mt_outputs\u001b[0m\u001b[0;34m,\u001b[0m \u001b[0;34m*\u001b[0m\u001b[0margs\u001b[0m\u001b[0;34m,\u001b[0m \u001b[0;34m**\u001b[0m\u001b[0mkwargs\u001b[0m\u001b[0;34m\u001b[0m\u001b[0;34m\u001b[0m\u001b[0m\n\u001b[1;32m    827\u001b[0m         )  # Calls into the C++ engine to run the backward pass\n",
            "\u001b[0;31mKeyboardInterrupt\u001b[0m: "
          ]
        }
      ]
    }
  ]
}